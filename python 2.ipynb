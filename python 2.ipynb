{
 "cells": [
  {
   "cell_type": "code",
   "execution_count": 4,
   "id": "bd7b72bc",
   "metadata": {},
   "outputs": [
    {
     "name": "stdout",
     "output_type": "stream",
     "text": [
      "Please guess a number between 1 and 10: \n",
      "5\n",
      "You got it first time\n"
     ]
    }
   ],
   "source": [
    "answer = 5\n",
    "\n",
    "print(\"Please guess a number between 1 and 10: \")\n",
    "guess = int(input())\n",
    "\n",
    "if guess > answer:\n",
    "    print(\"Please guess lower\")\n",
    "    guess = int(input())\n",
    "    if guess == answer:\n",
    "        print(\"Well done, that is right\")\n",
    "elif guess < answer:\n",
    "    print(\"Please guess higher\")\n",
    "    guess = int(input())\n",
    "    if guess == answer:\n",
    "        print(\"Well done, good guess\")\n",
    "else:\n",
    "    print(\"You got it first time\")"
   ]
  },
  {
   "cell_type": "code",
   "execution_count": 9,
   "id": "28f68e0f",
   "metadata": {},
   "outputs": [
    {
     "name": "stdout",
     "output_type": "stream",
     "text": [
      "Please guess number between 11 and 10: \n",
      "8\n",
      "Please guess lower\n",
      "6\n",
      "Sorry, you have not guessed correctly\n"
     ]
    }
   ],
   "source": [
    "answer = 5\n",
    "\n",
    "print(\"Please guess number between 1 and 10: \")\n",
    "guess = int(input())\n",
    "\n",
    "if guess != answer:\n",
    "    if guess < answer:\n",
    "        print(\"Please guess higher\")\n",
    "    else: # guess must be greater than answer\n",
    "        print(\"Please guess lower\")\n",
    "    guess = int(input())\n",
    "    if guess == answer:\n",
    "        print(\"Well done, you guessed it\")\n",
    "    else:\n",
    "        print(\"Sorry, you have not guessed correctly\")\n",
    "else:\n",
    "    print(\"You got it first time\")"
   ]
  },
  {
   "cell_type": "code",
   "execution_count": 11,
   "id": "d09fc198",
   "metadata": {},
   "outputs": [
    {
     "name": "stdout",
     "output_type": "stream",
     "text": [
      "Please guess a number between 1 and 10: \n",
      "8\n",
      "Please guess lower\n",
      "6\n",
      "Sorry, wrong guess\n"
     ]
    }
   ],
   "source": [
    "answer = 5\n",
    "print(\"Please guess a number between 1 and 10: \")\n",
    "guess = int(input())\n",
    "\n",
    "if guess == answer:\n",
    "    print(\"You got it right first time\")\n",
    "else:\n",
    "    if guess < answer:\n",
    "        print(\"Please guess higher\")\n",
    "    else:\n",
    "        print(\"Please guess lower\")\n",
    "    guess = int(input())\n",
    "    if guess == answer:\n",
    "        print(\"Well done, good guess\")\n",
    "    else:\n",
    "        print(\"Sorry, wrong guess\")"
   ]
  },
  {
   "cell_type": "code",
   "execution_count": 13,
   "id": "888f02e9",
   "metadata": {},
   "outputs": [
    {
     "name": "stdout",
     "output_type": "stream",
     "text": [
      "How are old are you?68\n",
      "You are not allowed to work\n"
     ]
    }
   ],
   "source": [
    "age = int(input(\"How are old are you?\"))\n",
    "if age >= 16 and age <= 65:\n",
    "    print(\"Have a great day at work\")\n",
    "else:\n",
    "    print(\"You are not allowed to work\")"
   ]
  },
  {
   "cell_type": "code",
   "execution_count": 15,
   "id": "67002484",
   "metadata": {},
   "outputs": [
    {
     "name": "stdout",
     "output_type": "stream",
     "text": [
      "What is your name? Tim\n",
      "How old are you? 38\n",
      "We are sorry for the inconvience. Thank you\n"
     ]
    }
   ],
   "source": [
    "name = input(\"What is your name? \")\n",
    "age = int(input(\"How old are you? \"))\n",
    "if 18 < age < 30:\n",
    "    print(\"Welcome to the park, enjoy your holiday\")\n",
    "else:\n",
    "    print(\"We are sorry for the inconvience. Thank you\")"
   ]
  },
  {
   "cell_type": "code",
   "execution_count": 16,
   "id": "7d493bbb",
   "metadata": {},
   "outputs": [
    {
     "name": "stdout",
     "output_type": "stream",
     "text": [
      "N\n",
      "o\n",
      "r\n",
      "w\n",
      "e\n",
      "g\n",
      "i\n",
      "a\n",
      "n\n",
      " \n",
      "B\n",
      "l\n",
      "u\n",
      "e\n"
     ]
    }
   ],
   "source": [
    "parrot = \"Norwegian Blue\"\n",
    "\n",
    "for character in parrot:\n",
    "    print(character)"
   ]
  },
  {
   "cell_type": "code",
   "execution_count": 17,
   "id": "acf7c907",
   "metadata": {},
   "outputs": [
    {
     "name": "stdout",
     "output_type": "stream",
     "text": [
      "A\n",
      "S\n",
      "M\n",
      "E\n",
      "W\n",
      "P\n",
      "O\n",
      "I\n",
      "R\n",
      "F\n",
      "W\n",
      "S\n",
      "P\n",
      "H\n",
      "R\n"
     ]
    }
   ],
   "source": [
    "quote = \"\"\"\n",
    "Alright, but apart from the Sanitation, the Medicine, Education, Wine, Public Order, Irrigation, Roads, the Fresh-Water\n",
    "System, and Public Health, what have the Romans ever done for us?\"\"\"\n",
    "for char in quote: # to get all the capital letters in the quote\n",
    "    if char.isupper():\n",
    "        print(char)"
   ]
  },
  {
   "cell_type": "code",
   "execution_count": 22,
   "id": "86f1abfc",
   "metadata": {},
   "outputs": [
    {
     "name": "stdout",
     "output_type": "stream",
     "text": [
      "i is now 1\n",
      "i is now 2\n",
      "i is now 3\n",
      "i is now 4\n",
      "i is now 5\n",
      "i is now 6\n",
      "i is now 7\n",
      "i is now 8\n",
      "i is now 9\n",
      "i is now 10\n",
      "i is now 11\n",
      "i is now 12\n",
      "i is now 13\n",
      "i is now 14\n",
      "i is now 15\n",
      "i is now 16\n",
      "i is now 17\n",
      "i is now 18\n",
      "i is now 19\n",
      "********************\n",
      "i is 10\n",
      "i is 8\n",
      "i is 6\n",
      "i is 4\n",
      "i is 2\n"
     ]
    }
   ],
   "source": [
    "for i in range(1,20):\n",
    "    print(\"i is now {}\".format(i))\n",
    "print(\"*\"* 20)    \n",
    "for i in range(10, 0, -2):\n",
    "    print(\"i is {}\".format(i))"
   ]
  },
  {
   "cell_type": "code",
   "execution_count": 24,
   "id": "ff8ece8b",
   "metadata": {},
   "outputs": [
    {
     "name": "stdout",
     "output_type": "stream",
     "text": [
      "0\n",
      "7\n",
      "14\n",
      "21\n",
      "28\n",
      "35\n",
      "42\n",
      "49\n",
      "56\n",
      "63\n",
      "70\n",
      "77\n",
      "84\n",
      "91\n",
      "98\n",
      "\n",
      "0 is divisible by 7\n",
      "7 is divisible by 7\n",
      "14 is divisible by 7\n",
      "21 is divisible by 7\n",
      "28 is divisible by 7\n",
      "35 is divisible by 7\n",
      "42 is divisible by 7\n",
      "49 is divisible by 7\n",
      "56 is divisible by 7\n",
      "63 is divisible by 7\n",
      "70 is divisible by 7\n",
      "77 is divisible by 7\n",
      "84 is divisible by 7\n",
      "91 is divisible by 7\n",
      "98 is divisible by 7\n"
     ]
    }
   ],
   "source": [
    "for i in range(0,101,7):\n",
    "    print(i)\n",
    "print(_ *20)\n",
    "\n",
    "for i in range(0,101,7):\n",
    "    print(\"{} is divisible by 7\".format(i))"
   ]
  },
  {
   "cell_type": "code",
   "execution_count": 27,
   "id": "1ff2d5bb",
   "metadata": {
    "code_folding": []
   },
   "outputs": [
    {
     "name": "stdout",
     "output_type": "stream",
     "text": [
      "1 times 1 is 1\n",
      "2 times 1 is 2\n",
      "3 times 1 is 3\n",
      "4 times 1 is 4\n",
      "5 times 1 is 5\n",
      "6 times 1 is 6\n",
      "7 times 1 is 7\n",
      "8 times 1 is 8\n",
      "9 times 1 is 9\n",
      "10 times 1 is 10\n",
      "11 times 1 is 11\n",
      "12 times 1 is 12\n",
      "_____________\n",
      "1 times 2 is 2\n",
      "2 times 2 is 4\n",
      "3 times 2 is 6\n",
      "4 times 2 is 8\n",
      "5 times 2 is 10\n",
      "6 times 2 is 12\n",
      "7 times 2 is 14\n",
      "8 times 2 is 16\n",
      "9 times 2 is 18\n",
      "10 times 2 is 20\n",
      "11 times 2 is 22\n",
      "12 times 2 is 24\n",
      "_____________\n",
      "1 times 3 is 3\n",
      "2 times 3 is 6\n",
      "3 times 3 is 9\n",
      "4 times 3 is 12\n",
      "5 times 3 is 15\n",
      "6 times 3 is 18\n",
      "7 times 3 is 21\n",
      "8 times 3 is 24\n",
      "9 times 3 is 27\n",
      "10 times 3 is 30\n",
      "11 times 3 is 33\n",
      "12 times 3 is 36\n",
      "_____________\n",
      "1 times 4 is 4\n",
      "2 times 4 is 8\n",
      "3 times 4 is 12\n",
      "4 times 4 is 16\n",
      "5 times 4 is 20\n",
      "6 times 4 is 24\n",
      "7 times 4 is 28\n",
      "8 times 4 is 32\n",
      "9 times 4 is 36\n",
      "10 times 4 is 40\n",
      "11 times 4 is 44\n",
      "12 times 4 is 48\n",
      "_____________\n",
      "1 times 5 is 5\n",
      "2 times 5 is 10\n",
      "3 times 5 is 15\n",
      "4 times 5 is 20\n",
      "5 times 5 is 25\n",
      "6 times 5 is 30\n",
      "7 times 5 is 35\n",
      "8 times 5 is 40\n",
      "9 times 5 is 45\n",
      "10 times 5 is 50\n",
      "11 times 5 is 55\n",
      "12 times 5 is 60\n",
      "_____________\n",
      "1 times 6 is 6\n",
      "2 times 6 is 12\n",
      "3 times 6 is 18\n",
      "4 times 6 is 24\n",
      "5 times 6 is 30\n",
      "6 times 6 is 36\n",
      "7 times 6 is 42\n",
      "8 times 6 is 48\n",
      "9 times 6 is 54\n",
      "10 times 6 is 60\n",
      "11 times 6 is 66\n",
      "12 times 6 is 72\n",
      "_____________\n",
      "1 times 7 is 7\n",
      "2 times 7 is 14\n",
      "3 times 7 is 21\n",
      "4 times 7 is 28\n",
      "5 times 7 is 35\n",
      "6 times 7 is 42\n",
      "7 times 7 is 49\n",
      "8 times 7 is 56\n",
      "9 times 7 is 63\n",
      "10 times 7 is 70\n",
      "11 times 7 is 77\n",
      "12 times 7 is 84\n",
      "_____________\n",
      "1 times 8 is 8\n",
      "2 times 8 is 16\n",
      "3 times 8 is 24\n",
      "4 times 8 is 32\n",
      "5 times 8 is 40\n",
      "6 times 8 is 48\n",
      "7 times 8 is 56\n",
      "8 times 8 is 64\n",
      "9 times 8 is 72\n",
      "10 times 8 is 80\n",
      "11 times 8 is 88\n",
      "12 times 8 is 96\n",
      "_____________\n",
      "1 times 9 is 9\n",
      "2 times 9 is 18\n",
      "3 times 9 is 27\n",
      "4 times 9 is 36\n",
      "5 times 9 is 45\n",
      "6 times 9 is 54\n",
      "7 times 9 is 63\n",
      "8 times 9 is 72\n",
      "9 times 9 is 81\n",
      "10 times 9 is 90\n",
      "11 times 9 is 99\n",
      "12 times 9 is 108\n",
      "_____________\n",
      "1 times 10 is 10\n",
      "2 times 10 is 20\n",
      "3 times 10 is 30\n",
      "4 times 10 is 40\n",
      "5 times 10 is 50\n",
      "6 times 10 is 60\n",
      "7 times 10 is 70\n",
      "8 times 10 is 80\n",
      "9 times 10 is 90\n",
      "10 times 10 is 100\n",
      "11 times 10 is 110\n",
      "12 times 10 is 120\n",
      "_____________\n",
      "1 times 11 is 11\n",
      "2 times 11 is 22\n",
      "3 times 11 is 33\n",
      "4 times 11 is 44\n",
      "5 times 11 is 55\n",
      "6 times 11 is 66\n",
      "7 times 11 is 77\n",
      "8 times 11 is 88\n",
      "9 times 11 is 99\n",
      "10 times 11 is 110\n",
      "11 times 11 is 121\n",
      "12 times 11 is 132\n",
      "_____________\n",
      "1 times 12 is 12\n",
      "2 times 12 is 24\n",
      "3 times 12 is 36\n",
      "4 times 12 is 48\n",
      "5 times 12 is 60\n",
      "6 times 12 is 72\n",
      "7 times 12 is 84\n",
      "8 times 12 is 96\n",
      "9 times 12 is 108\n",
      "10 times 12 is 120\n",
      "11 times 12 is 132\n",
      "12 times 12 is 144\n",
      "_____________\n"
     ]
    }
   ],
   "source": [
    "for i in range(1, 13):\n",
    "    for j in range(1, 13):\n",
    "        print(\"{0} times {1} is {2}\".format(j, i, i * j))\n",
    "    print(\"_____________\")"
   ]
  },
  {
   "cell_type": "code",
   "execution_count": 30,
   "id": "00accaaa",
   "metadata": {},
   "outputs": [
    {
     "name": "stdout",
     "output_type": "stream",
     "text": [
      "Buy milk\n",
      "Buy paste\n",
      "Buy eggs\n",
      "Buy bread\n",
      "Buy rice\n"
     ]
    }
   ],
   "source": [
    "shopping_list = [\"milk\", \"pasta\", \"eggs\", \"spam\", \"bread\", \"rice\"]\n",
    "for item in shopping_list:\n",
    "    if item != \"spam\":\n",
    "        print(\"Buy \" + item)"
   ]
  },
  {
   "cell_type": "code",
   "execution_count": 32,
   "id": "9ea28b67",
   "metadata": {},
   "outputs": [
    {
     "name": "stdout",
     "output_type": "stream",
     "text": [
      "Item found at position 3\n"
     ]
    }
   ],
   "source": [
    "shopping_list = [\"milk\", \"pasta\", \"eggs\", \"spam\", \"bread\", \"rice\"]\n",
    "item_to_find = \"spam\"\n",
    "found_at = None\n",
    "\n",
    "for index in range(len(shopping_list)):\n",
    "    if shopping_list[index] == item_to_find:\n",
    "        found_at = index\n",
    "        break # to jump out of the loop when we found what we are looking for\n",
    "print(\"Item found at position {}\".format(found_at))"
   ]
  }
 ],
 "metadata": {
  "kernelspec": {
   "display_name": "Python 3",
   "language": "python",
   "name": "python3"
  },
  "language_info": {
   "codemirror_mode": {
    "name": "ipython",
    "version": 3
   },
   "file_extension": ".py",
   "mimetype": "text/x-python",
   "name": "python",
   "nbconvert_exporter": "python",
   "pygments_lexer": "ipython3",
   "version": "3.8.8"
  },
  "varInspector": {
   "cols": {
    "lenName": 16,
    "lenType": 16,
    "lenVar": 40
   },
   "kernels_config": {
    "python": {
     "delete_cmd_postfix": "",
     "delete_cmd_prefix": "del ",
     "library": "var_list.py",
     "varRefreshCmd": "print(var_dic_list())"
    },
    "r": {
     "delete_cmd_postfix": ") ",
     "delete_cmd_prefix": "rm(",
     "library": "var_list.r",
     "varRefreshCmd": "cat(var_dic_list()) "
    }
   },
   "types_to_exclude": [
    "module",
    "function",
    "builtin_function_or_method",
    "instance",
    "_Feature"
   ],
   "window_display": false
  }
 },
 "nbformat": 4,
 "nbformat_minor": 5
}
