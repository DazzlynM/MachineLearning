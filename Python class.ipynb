{
 "cells": [
  {
   "cell_type": "code",
   "execution_count": 8,
   "id": "54480da6",
   "metadata": {},
   "outputs": [
    {
     "name": "stdout",
     "output_type": "stream",
     "text": [
      "Hello, World!\n",
      "123\n",
      "5\n",
      "8\n",
      "The end or is it? Keep watching to learn more about python 3\n"
     ]
    },
    {
     "data": {
      "text/plain": [
       "15"
      ]
     },
     "execution_count": 8,
     "metadata": {},
     "output_type": "execute_result"
    }
   ],
   "source": [
    "print(\"Hello, World!\")\n",
    "print(123)\n",
    "print(1+4)\n",
    "print(2*4)\n",
    "print(\"The end\", \"or is it?\", \"Keep watching to learn more about python\", 3)\n",
    "\n",
    "12+3"
   ]
  },
  {
   "cell_type": "code",
   "execution_count": 10,
   "id": "80db7e92",
   "metadata": {},
   "outputs": [
    {
     "name": "stdout",
     "output_type": "stream",
     "text": [
      "My hovercraft is full of eels\n",
      "42\n"
     ]
    }
   ],
   "source": [
    "print(\"My hovercraft is full of eels\")\n",
    "print(6 * 7)"
   ]
  },
  {
   "cell_type": "code",
   "execution_count": 13,
   "id": "ada6e4ac",
   "metadata": {},
   "outputs": [
    {
     "name": "stdout",
     "output_type": "stream",
     "text": [
      "Today is a good day to learn python\n",
      "Python is fun\n",
      "Python's string are easy to use\n",
      "We can even include \"quotes\" in strings\n",
      "hello world\n",
      "Please enter your name Tim\n",
      "Hello Tim\n"
     ]
    }
   ],
   "source": [
    "print(\"Today is a good day to learn python\")\n",
    "print('Python is fun')\n",
    "print(\"Python's string are easy to use\")\n",
    "print('We can even include \"quotes\" in strings')\n",
    "print(\"hello\" + \" world\")\n",
    "greeting = \"Hello\"\n",
    "name = input(\"Please enter your name \")\n",
    "\n",
    "# if we want a space, we can add that too\n",
    "print(greeting + ' ' + name)"
   ]
  },
  {
   "cell_type": "code",
   "execution_count": 15,
   "id": "8f2f1206",
   "metadata": {},
   "outputs": [
    {
     "name": "stdout",
     "output_type": "stream",
     "text": [
      "This string has been\n",
      "split over\n",
      "several\n",
      "lines\n"
     ]
    }
   ],
   "source": [
    "splitString = \"This string has been\\nsplit over\\nseveral\\nlines\"\n",
    "print(splitString)"
   ]
  },
  {
   "cell_type": "code",
   "execution_count": 17,
   "id": "14aafd96",
   "metadata": {},
   "outputs": [
    {
     "name": "stdout",
     "output_type": "stream",
     "text": [
      "The pet shop owner said \"No, no, 'e's uh,...he's resting\".\n",
      "The pet shop owner said \"No, no, 'e's uh,...he's resting\".\n",
      "The pet shop owner said \"No,no, 'e's uh,...he's resting\". \n",
      "This string has been\n",
      "split over\n",
      "several\n",
      "lines\n"
     ]
    }
   ],
   "source": [
    "print('The pet shop owner said \"No, no, \\'e\\'s uh,...he\\'s resting\".')\n",
    "print(\"The pet shop owner said \\\"No, no, 'e's uh,...he's resting\\\".\")\n",
    "print(\"\"\"The pet shop owner said \"No,no, 'e's uh,...he's resting\". \"\"\")\n",
    "anotherSplitString = \"\"\"This string has been\n",
    "split over\n",
    "several\n",
    "lines\"\"\"\n",
    "print(anotherSplitString)"
   ]
  },
  {
   "cell_type": "code",
   "execution_count": 22,
   "id": "6b1c92dc",
   "metadata": {},
   "outputs": [
    {
     "name": "stdout",
     "output_type": "stream",
     "text": [
      "Number 1\tThe Larch\n",
      "Number 2\tthe Horse Chestnut\n",
      "C:\\User\\timuchalka\\notes.txt\n",
      "C:\\User\\timuchalka\\notes.txt\n"
     ]
    }
   ],
   "source": [
    "print(\"Number 1\\tThe Larch\") # \"'\\t'- for tab\"\n",
    "print(\"Number 2\\tthe Horse Chestnut\") # \"'\\n' - for new line\"\n",
    "print(\"C:\\\\User\\\\timuchalka\\\\notes.txt\") # for escape character\n",
    "print(r\"C:\\User\\timuchalka\\notes.txt\")"
   ]
  },
  {
   "cell_type": "code",
   "execution_count": 4,
   "id": "e1ccd3bf",
   "metadata": {},
   "outputs": [],
   "source": [
    "name = \"Tom\"\n",
    "age = 24\n",
    "#print(name + \" is \" + age + \" years old\") #it cannot concatenate string and integer"
   ]
  },
  {
   "cell_type": "code",
   "execution_count": 7,
   "id": "158a0588",
   "metadata": {},
   "outputs": [
    {
     "name": "stdout",
     "output_type": "stream",
     "text": [
      "15\n",
      "9\n",
      "36\n",
      "4.0\n",
      "4\n",
      "0\n",
      "1\n",
      "2\n",
      "3\n"
     ]
    }
   ],
   "source": [
    "a = 12\n",
    "b = 3\n",
    "print(a + b)\n",
    "print(a - b)\n",
    "print(a * b)\n",
    "print(a / b)\n",
    "print(a // b)\n",
    "print(a % b)\n",
    "for i in range(1, a // b):\n",
    "    print(i)"
   ]
  },
  {
   "cell_type": "code",
   "execution_count": 9,
   "id": "0dbe112c",
   "metadata": {},
   "outputs": [
    {
     "name": "stdout",
     "output_type": "stream",
     "text": [
      "6.0\n",
      "6.25\n"
     ]
    }
   ],
   "source": [
    "bun_price = 2.40\n",
    "money = 15\n",
    "print(money // bun_price)\n",
    "print(money / bun_price)"
   ]
  },
  {
   "cell_type": "code",
   "execution_count": 15,
   "id": "52336f49",
   "metadata": {},
   "outputs": [
    {
     "name": "stdout",
     "output_type": "stream",
     "text": [
      "Norwegian Blue\n",
      "w\n",
      "e\n",
      " \n",
      "w\n",
      "i\n",
      "n\n",
      "\n",
      "w\n",
      "e\n",
      " \n",
      "w\n",
      "i\n",
      "n\n",
      "Norwegian\n",
      "Blue\n",
      "Norwegian Blue\n"
     ]
    }
   ],
   "source": [
    "parrot = \"Norwegian Blue\"\n",
    "print(parrot)\n",
    "print(parrot[3])\n",
    "print(parrot[4])\n",
    "print(parrot[9])\n",
    "print(parrot[3])\n",
    "print(parrot[6])\n",
    "print(parrot[8])\n",
    "print()\n",
    "print(parrot[-11])\n",
    "print(parrot[-1])\n",
    "print(parrot[-5])\n",
    "print(parrot[-11])\n",
    "print(parrot[-8])\n",
    "print(parrot[-6])\n",
    "print(parrot[0:9])\n",
    "print(parrot[10:])\n",
    "print(parrot[:])"
   ]
  },
  {
   "cell_type": "code",
   "execution_count": 17,
   "id": "97071fd9",
   "metadata": {},
   "outputs": [
    {
     "name": "stdout",
     "output_type": "stream",
     "text": [
      ",;: ,;\n",
      "[9, 223, 372, 36, 854, 775, 807]\n"
     ]
    }
   ],
   "source": [
    "number = \"9,223;372:036 854,775;807\"\n",
    "separators = number[1::4]\n",
    "print(separators)\n",
    "values = \"\".join(char if char not in separators else \" \" for char in number).split()\n",
    "print([int(val) for val in values])"
   ]
  },
  {
   "cell_type": "code",
   "execution_count": 25,
   "id": "4a9482a1",
   "metadata": {},
   "outputs": [
    {
     "name": "stdout",
     "output_type": "stream",
     "text": [
      "zyxwvutsrqponmlkjihgfedcba\n",
      "qpo\n",
      "edcba\n",
      "zyxwvuts\n",
      "\n"
     ]
    }
   ],
   "source": [
    "letters = \"abcdefghijklmnopqrstuvwxyz\"\n",
    "backward = letters[25::-1]\n",
    "print(backward)\n",
    "back = letters[16:13:-1]\n",
    "print(back)\n",
    "bac = letters[4::-1]\n",
    "print(bac)\n",
    "ba = letters[25:17:-1]\n",
    "print(ba)\n",
    "let = \"\"\n",
    "print(let[:1])"
   ]
  },
  {
   "cell_type": "code",
   "execution_count": 28,
   "id": "ac2e6665",
   "metadata": {},
   "outputs": [
    {
     "name": "stdout",
     "output_type": "stream",
     "text": [
      " Hello Hello Hello Hello Hello\n",
      "True\n",
      "True\n",
      "False\n"
     ]
    }
   ],
   "source": [
    "print(5 * \" Hello\")\n",
    "today = \"friday\"\n",
    "print(\"day\" in today)\n",
    "print(\"fri\" in today)\n",
    "print(\"thur\" in today)"
   ]
  },
  {
   "cell_type": "code",
   "execution_count": 34,
   "id": "79b83a12",
   "metadata": {},
   "outputs": [
    {
     "name": "stdout",
     "output_type": "stream",
     "text": [
      "My age is 24 years\n",
      "My age is 24 years\n",
      "There are 31 days in Jan, Mar, May, Jul, Aug, Oct and Dec.\n",
      "Jan: 31, Feb: 28, Mar: 31, Apr: 30, May: 31, Jun: 30, Jul: 31, Sep: 30, Oct: 31, Nov: 30, Dec: 31\n",
      "Jan: 31\n",
      "Feb: 28\n",
      "Mar: 31\n",
      "Apr: 30\n",
      "May: 31\n",
      "Jun: 30\n",
      "Jul: 31\n",
      "Aug: 31\n",
      "Sep: 30\n",
      "Oct: 31\n",
      "Nov: 30\n",
      "Dec: 31\n"
     ]
    }
   ],
   "source": [
    "age = 24\n",
    "print(\"My age is \" + str(age) + \" years\")\n",
    "print(\"My age is {0} years\".format(age))\n",
    "print(\"There are {0} days in {1}, {2}, {3}, {4}, {5}, {6} and {7}.\"\n",
    "      .format(31, \"Jan\", \"Mar\", \"May\", \"Jul\", \"Aug\", \"Oct\", \"Dec\"))\n",
    "print(\"Jan: {2}, Feb: {0}, Mar: {2}, Apr: {1}, May: {2}, Jun: {1}, Jul: {2}, Sep: {1}, Oct: {2}, Nov: {1}, Dec: {2}\"\n",
    "     .format(28, 30, 31))\n",
    "print(\"\"\"Jan: {2}\n",
    "Feb: {0}\n",
    "Mar: {2}\n",
    "Apr: {1}\n",
    "May: {2}\n",
    "Jun: {1}\n",
    "Jul: {2}\n",
    "Aug: {2}\n",
    "Sep: {1}\n",
    "Oct: {2}\n",
    "Nov: {1}\n",
    "Dec: {2}\"\"\".format(28, 30, 31))"
   ]
  },
  {
   "cell_type": "code",
   "execution_count": 40,
   "id": "1b6bf29b",
   "metadata": {},
   "outputs": [
    {
     "name": "stdout",
     "output_type": "stream",
     "text": [
      "No.   1 squared is     1 and cubed is     1\n",
      "No.   2 squared is     4 and cubed is     8\n",
      "No.   3 squared is     9 and cubed is    27\n",
      "No.   4 squared is    16 and cubed is    64\n",
      "No.   5 squared is    25 and cubed is   125\n",
      "No.   6 squared is    36 and cubed is   216\n",
      "No.   7 squared is    49 and cubed is   343\n",
      "No.   8 squared is    64 and cubed is   512\n",
      "No.   9 squared is    81 and cubed is   729\n",
      "No.  10 squared is   100 and cubed is  1000\n",
      "No.  11 squared is   121 and cubed is  1331\n",
      "No.  12 squared is   144 and cubed is  1728\n"
     ]
    }
   ],
   "source": [
    "for i in range(1, 13):\n",
    "    print(\"No. {0:3} squared is {1:5} and cubed is {2:5}\".format(i, i ** 2, i ** 3))"
   ]
  },
  {
   "cell_type": "code",
   "execution_count": 44,
   "id": "feccdca4",
   "metadata": {},
   "outputs": [
    {
     "name": "stdout",
     "output_type": "stream",
     "text": [
      "My age is 24 years\n",
      "My age is 24 years, 6 months\n",
      "PI is approximately 3.142857\n",
      "PI is approximately         3.1428571429\n"
     ]
    }
   ],
   "source": [
    "age = 24\n",
    "print(\"My age is %d years\" % age)\n",
    "major = \"years\"\n",
    "minor = \"months\"\n",
    "print(\"My age is %d %s, %d %s\" % (age, major, 6, minor))\n",
    "print(\"PI is approximately %f\" % (22 / 7))\n",
    "print(\"PI is approximately %20.10f\" % (22 / 7))"
   ]
  },
  {
   "cell_type": "code",
   "execution_count": 47,
   "id": "2ed86584",
   "metadata": {
    "code_folding": []
   },
   "outputs": [
    {
     "name": "stdout",
     "output_type": "stream",
     "text": [
      "Please enter your name: Tim\n",
      "How old are you, Tim? 16\n",
      "16\n",
      "Please come back in 2 years\n"
     ]
    }
   ],
   "source": [
    "name = input(\"Please enter your name: \")\n",
    "age = int(input(\"How old are you, {0}? \".format(name)))\n",
    "print(age)\n",
    "\n",
    "if age >= 18:\n",
    "    print(\"You are old enough to vote\")\n",
    "else:\n",
    "    print(\"Please come back in {0} years\".format(18 - age))"
   ]
  },
  {
   "cell_type": "code",
   "execution_count": null,
   "id": "3cbf3f8b",
   "metadata": {},
   "outputs": [],
   "source": [
    "answer = 5\n",
    "\n",
    "print(\"Please guess number between 1 and 10: \")\n",
    "guess = int(input())\n",
    "\n",
    "if guess < answer:\n",
    "    print(\"Please guess higher\")\n",
    "elif guess > answer:\n",
    "    print(\"Please guess lower\")\n",
    "else:\n",
    "    print(\"You got it right the first time\")"
   ]
  }
 ],
 "metadata": {
  "kernelspec": {
   "display_name": "Python 3",
   "language": "python",
   "name": "python3"
  },
  "language_info": {
   "codemirror_mode": {
    "name": "ipython",
    "version": 3
   },
   "file_extension": ".py",
   "mimetype": "text/x-python",
   "name": "python",
   "nbconvert_exporter": "python",
   "pygments_lexer": "ipython3",
   "version": "3.8.8"
  },
  "varInspector": {
   "cols": {
    "lenName": 16,
    "lenType": 16,
    "lenVar": 40
   },
   "kernels_config": {
    "python": {
     "delete_cmd_postfix": "",
     "delete_cmd_prefix": "del ",
     "library": "var_list.py",
     "varRefreshCmd": "print(var_dic_list())"
    },
    "r": {
     "delete_cmd_postfix": ") ",
     "delete_cmd_prefix": "rm(",
     "library": "var_list.r",
     "varRefreshCmd": "cat(var_dic_list()) "
    }
   },
   "types_to_exclude": [
    "module",
    "function",
    "builtin_function_or_method",
    "instance",
    "_Feature"
   ],
   "window_display": false
  }
 },
 "nbformat": 4,
 "nbformat_minor": 5
}
